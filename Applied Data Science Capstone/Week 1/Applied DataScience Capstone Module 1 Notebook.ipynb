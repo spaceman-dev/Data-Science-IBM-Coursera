{
 "cells": [
  {
   "cell_type": "markdown",
   "metadata": {},
   "source": [
    "# Applied Data Science Capstone Module 1 Notebook"
   ]
  },
  {
   "cell_type": "markdown",
   "metadata": {},
   "source": [
    "### Hello everyone! This is a Notebook primarily created for the Applied Data Science Capstone Module 1 Peer Assignment"
   ]
  },
  {
   "cell_type": "code",
   "execution_count": 20,
   "metadata": {},
   "outputs": [
    {
     "name": "stdout",
     "output_type": "stream",
     "text": [
      "Requirement already up-to-date: pip in c:\\users\\dhruv\\appdata\\local\\programs\\python\\python37\\lib\\site-packages (20.1.1)\n",
      "Requirement already satisfied: pandas in c:\\users\\dhruv\\appdata\\local\\programs\\python\\python37\\lib\\site-packages (1.0.3)\n",
      "Requirement already satisfied: numpy>=1.13.3 in c:\\users\\dhruv\\appdata\\local\\programs\\python\\python37\\lib\\site-packages (from pandas) (1.18.4)\n",
      "Requirement already satisfied: pytz>=2017.2 in c:\\users\\dhruv\\appdata\\local\\programs\\python\\python37\\lib\\site-packages (from pandas) (2018.7)\n",
      "Requirement already satisfied: python-dateutil>=2.6.1 in c:\\users\\dhruv\\appdata\\local\\programs\\python\\python37\\lib\\site-packages (from pandas) (2.8.1)\n",
      "Requirement already satisfied: six>=1.5 in c:\\users\\dhruv\\appdata\\local\\programs\\python\\python37\\lib\\site-packages (from python-dateutil>=2.6.1->pandas) (1.15.0)\n",
      "Requirement already satisfied: numpy in c:\\users\\dhruv\\appdata\\local\\programs\\python\\python37\\lib\\site-packages (1.18.4)\n"
     ]
    }
   ],
   "source": [
    "!pip install pandas\n",
    "!pip install numpy"
   ]
  },
  {
   "cell_type": "code",
   "execution_count": 21,
   "metadata": {},
   "outputs": [],
   "source": [
    "import pandas as pd\n",
    "import numpy as np"
   ]
  },
  {
   "cell_type": "code",
   "execution_count": 22,
   "metadata": {},
   "outputs": [
    {
     "name": "stdout",
     "output_type": "stream",
     "text": [
      "Hello Capstone Project Course!\n"
     ]
    }
   ],
   "source": [
    "print(\"Hello Capstone Project Course!\")"
   ]
  }
 ],
 "metadata": {
  "kernelspec": {
   "display_name": "Python 3",
   "language": "python",
   "name": "python3"
  },
  "language_info": {
   "codemirror_mode": {
    "name": "ipython",
    "version": 3
   },
   "file_extension": ".py",
   "mimetype": "text/x-python",
   "name": "python",
   "nbconvert_exporter": "python",
   "pygments_lexer": "ipython3",
   "version": "3.8.1"
  }
 },
 "nbformat": 4,
 "nbformat_minor": 4
}
